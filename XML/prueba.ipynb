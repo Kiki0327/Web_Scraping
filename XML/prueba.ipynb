{
 "cells": [
  {
   "cell_type": "code",
   "execution_count": 1,
   "metadata": {},
   "outputs": [
    {
     "name": "stdout",
     "output_type": "stream",
     "text": [
      "b'<?xml version=\"1.0\" encoding=\"UTF-8\"?>\\n<commentinfo>\\n  <note>This file contains the sample data for testing</note>\\n\\n  <comments>\\n    <comment>\\n       <name>Romina</name>\\n       <count>97</count>\\n    </comment>\\n    <comment>\\n       <name>Laurie</name>\\n       <count>97</count>\\n    </comment>\\n    <comment>\\n       <name>Siyona</name>\\n       <count>90</count>\\n    </comment>\\n    <comment>\\n       <name>Bayli</name>\\n       <count>90</count>\\n    </comment>\\n    <comment>\\n       <name>Taisha</name>\\n       <count>88</count>\\n    </comment>\\n    <comment>\\n       <name>Alanda</name>\\n       <count>87</count>\\n    </comment>\\n    <comment>\\n       <name>Ameelia</name>\\n       <count>87</count>\\n    </comment>\\n    <comment>\\n       <name>Prasheeta</name>\\n       <count>80</count>\\n    </comment>\\n    <comment>\\n       <name>Risa</name>\\n       <count>79</count>\\n    </comment>\\n    <comment>\\n       <name>Asif</name>\\n       <count>79</count>\\n    </comment>\\n    <comment>\\n       <name>Zi</name>\\n       <count>78</count>\\n    </comment>\\n    <comment>\\n       <name>Ediomi</name>\\n       <count>76</count>\\n    </comment>\\n    <comment>\\n       <name>Danyil</name>\\n       <count>76</count>\\n    </comment>\\n    <comment>\\n       <name>Lance</name>\\n       <count>72</count>\\n    </comment>\\n    <comment>\\n       <name>Barry</name>\\n       <count>72</count>\\n    </comment>\\n    <comment>\\n       <name>Mathu</name>\\n       <count>66</count>\\n    </comment>\\n    <comment>\\n       <name>Hattie</name>\\n       <count>66</count>\\n    </comment>\\n    <comment>\\n       <name>Bowie</name>\\n       <count>65</count>\\n    </comment>\\n    <comment>\\n       <name>Samara</name>\\n       <count>65</count>\\n    </comment>\\n    <comment>\\n       <name>Uchenna</name>\\n       <count>64</count>\\n    </comment>\\n    <comment>\\n       <name>Georgia</name>\\n       <count>61</count>\\n    </comment>\\n    <comment>\\n       <name>Shauni</name>\\n       <count>61</count>\\n    </comment>\\n    <comment>\\n       <name>Rivan</name>\\n       <count>59</count>\\n    </comment>\\n    <comment>\\n       <name>Kenan</name>\\n       <count>58</count>\\n    </comment>\\n    <comment>\\n       <name>Isma</name>\\n       <count>57</count>\\n    </comment>\\n    <comment>\\n       <name>Hassan</name>\\n       <count>57</count>\\n    </comment>\\n    <comment>\\n       <name>Samanthalee</name>\\n       <count>54</count>\\n    </comment>\\n    <comment>\\n       <name>Alexa</name>\\n       <count>51</count>\\n    </comment>\\n    <comment>\\n       <name>Caine</name>\\n       <count>49</count>\\n    </comment>\\n    <comment>\\n       <name>Grady</name>\\n       <count>47</count>\\n    </comment>\\n    <comment>\\n       <name>Anne</name>\\n       <count>40</count>\\n    </comment>\\n    <comment>\\n       <name>Rihan</name>\\n       <count>38</count>\\n    </comment>\\n    <comment>\\n       <name>Alexei</name>\\n       <count>37</count>\\n    </comment>\\n    <comment>\\n       <name>Indie</name>\\n       <count>36</count>\\n    </comment>\\n    <comment>\\n       <name>Rhuairidh</name>\\n       <count>36</count>\\n    </comment>\\n    <comment>\\n       <name>Annoushka</name>\\n       <count>32</count>\\n    </comment>\\n    <comment>\\n       <name>Kenzi</name>\\n       <count>25</count>\\n    </comment>\\n    <comment>\\n       <name>Shahd</name>\\n       <count>24</count>\\n    </comment>\\n    <comment>\\n       <name>Irvine</name>\\n       <count>22</count>\\n    </comment>\\n    <comment>\\n       <name>Carys</name>\\n       <count>21</count>\\n    </comment>\\n    <comment>\\n       <name>Skye</name>\\n       <count>19</count>\\n    </comment>\\n    <comment>\\n       <name>Rohan</name>\\n       <count>18</count>\\n    </comment>\\n    <comment>\\n       <name>Atiya</name>\\n       <count>18</count>\\n    </comment>\\n    <comment>\\n       <name>Nuala</name>\\n       <count>14</count>\\n    </comment>\\n    <comment>\\n       <name>Maram</name>\\n       <count>12</count>\\n    </comment>\\n    <comment>\\n       <name>Carlo</name>\\n       <count>12</count>\\n    </comment>\\n    <comment>\\n       <name>Japleen</name>\\n       <count>9</count>\\n    </comment>\\n    <comment>\\n       <name>Breeanna</name>\\n       <count>7</count>\\n    </comment>\\n    <comment>\\n       <name>Zaaine</name>\\n       <count>3</count>\\n    </comment>\\n    <comment>\\n       <name>Inika</name>\\n       <count>2</count>\\n    </comment>\\n  </comments>\\n</commentinfo>\\n'\n",
      "User count: 0\n"
     ]
    }
   ],
   "source": [
    "import sum_numbers_xml"
   ]
  }
 ],
 "metadata": {
  "kernelspec": {
   "display_name": "webscraping_env",
   "language": "python",
   "name": "python3"
  },
  "language_info": {
   "codemirror_mode": {
    "name": "ipython",
    "version": 3
   },
   "file_extension": ".py",
   "mimetype": "text/x-python",
   "name": "python",
   "nbconvert_exporter": "python",
   "pygments_lexer": "ipython3",
   "version": "3.12.3"
  }
 },
 "nbformat": 4,
 "nbformat_minor": 2
}
