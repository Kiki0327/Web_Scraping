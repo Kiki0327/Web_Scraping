{
 "cells": [
  {
   "cell_type": "code",
   "execution_count": 1,
   "metadata": {},
   "outputs": [],
   "source": [
    "import urllib.request, urllib.parse, urllib.error\n",
    "from bs4 import BeautifulSoup\n",
    "import re"
   ]
  },
  {
   "cell_type": "code",
   "execution_count": null,
   "metadata": {},
   "outputs": [],
   "source": [
    "x = urllib.request.urlopen('http://data.pr4e.org/romeo.txt')\n",
    "print(type(x))\n",
    "x"
   ]
  },
  {
   "cell_type": "code",
   "execution_count": null,
   "metadata": {},
   "outputs": [],
   "source": [
    "p = '<p>Please click <a href=\"http://www.dr-chuck.com\">here</a></p>'"
   ]
  },
  {
   "cell_type": "code",
   "execution_count": null,
   "metadata": {},
   "outputs": [],
   "source": [
    "re.findall('\"(.+)\"',p)"
   ]
  },
  {
   "cell_type": "code",
   "execution_count": 2,
   "metadata": {},
   "outputs": [
    {
     "name": "stdout",
     "output_type": "stream",
     "text": [
      "<class 'bs4.element.ResultSet'>\n"
     ]
    },
    {
     "data": {
      "text/plain": [
       "[<a href=\"https://www.learnerprivacy.org/\">\n",
       " <img align=\"center\" alt=\"Photo Credit: Brent Severance\" src=\"Chuck_Square_B&amp;W.jpg\" style=\"border: white 2px solid;\" width=\"160\"/>\n",
       " </a>,\n",
       " <a href=\"https://www.si.umich.edu/\" target=\"_blank\">School of Information</a>,\n",
       " <a href=\"https://online.dr-chuck.com/\" target=\"_blank\">Free Courses</a>,\n",
       " <a href=\"https://www.linkedin.com/in/charlesseverance/\" target=\"_blank\">LinkedIn</a>,\n",
       " <a href=\"https://www.youtube.com/@ChuckSeverance/playlists\" target=\"_blank\">YouTube Channel </a>,\n",
       " <a href=\"https://www.coursera.org/instructor/drchuck\" target=\"_blank\">My Coursera Page</a>,\n",
       " <a href=\"https://amzn.to/1K5Q81K\" target=\"_blank\">Amazon Author Page</a>,\n",
       " <a href=\"https://www.learnerprivacy.org\">Podcast</a>,\n",
       " <a href=\"https://www.twitter.com/drchuck/\" target=\"_blank\">@drchuck Twitter</a>,\n",
       " <a href=\"https://www.dr-chuck.com/dr-chuck/resume/speaking.htm\" target=\"_blank\">Keynote Speaker</a>,\n",
       " <a href=\"https://www.slideshare.net/csev\" target=\"_blank\">Slideshare</a>,\n",
       " <a href=\"/dr-chuck/resume/index.htm\" target=\"_blank\">Resume and Bio</a>,\n",
       " <a href=\"https://www.youtube.com/playlist?list=PLHJB2bhmgB7dFuY7HmrXLj5BmHGKTD-3R\" target=\"_blank\">IEEE Video Interviews</a>,\n",
       " <a href=\"https://www.dr-chuck.com/csev-blog/\">Blog</a>,\n",
       " <a href=\"http://afs.dr-chuck.com/papers/\" target=\"_blank\">Chuck's Papers</a>,\n",
       " <a href=\"https://vimeo.com/drchuck/videos\" target=\"_blank\">Video on Vimeo</a>,\n",
       " <a href=\"https://www.py4e.com/\" target=\"_blank\">Python for Everybody</a>,\n",
       " <a href=\"https://www.cc4e.com/\" target=\"_blank\">C Programming for Everybody</a>,\n",
       " <a href=\"https://www.dj4e.com/\" target=\"_blank\">Django for Everybody</a>,\n",
       " <a href=\"https://www.wa4e.com/\" target=\"_blank\">Web Applications for Everybody</a>,\n",
       " <a href=\"https://www.pg4e.com/\" target=\"_blank\">PostgreSQL for Everybody</a>,\n",
       " <a href=\"https://ihts.pr4e.com/\" target=\"_blank\">Internet History, Technnology and Security</a>,\n",
       " <a href=\"/office\" target=\"_blank\">Dr. Chuck Office Hours Around the World</a>,\n",
       " <a href=\"https://www.sakaiproject.org/\" target=\"_blank\">The Sakai Collaboration\n",
       " and Learning Environment</a>,\n",
       " <a href=\"https://www.tsugi.org/\" target=\"_blank\">Tsugi: A framework for learning tools</a>,\n",
       " <a href=\"https://www.imsglobal.org/activity/learning-tools-interoperability-lti%C2%AE\" target=\"_blank\">Learning Tools Interoperability (LTI)</a>,\n",
       " <a href=\"http://www.py4e.com/book\" target=\"_blank\">Python For Everybody: Exploring Data in Python 3</a>,\n",
       " <a href=\"/sakai-book\">Sakai: Building an Open Source Community</a>,\n",
       " <a href=\"http://www.amazon.com/gp/product/1624311393/ref=as_li_ss_tl?ie=UTF8&amp;camp=1789&amp;creative=390957&amp;creativeASIN=1624311393&amp;linkCode=as2&amp;tag=drchu02-20\" target=\"_blank\">Raspberry Pi (21st Century Skills Innovation Library)</a>,\n",
       " <a href=\"http://www.amazon.com/gp/product/059680069X/ref=as_li_ss_tl?ie=UTF8&amp;camp=1789&amp;creative=390957&amp;creativeASIN=059680069X&amp;linkCode=as2&amp;tag=drchu02-20\" target=\"_blank\">Using Google App Engine</a>,\n",
       " <a href=\"http://www.amazon.com/Performance-Computing-Architectures-Optimization-Benchmarks/dp/156592312X/\" target=\"_blank\">High Performance Computing</a>,\n",
       " <a href=\"http://oreilly.com/catalog/9781565923126/\" target=\"_blank\">O'Reilly 1998</a>,\n",
       " <a href=\"http://cnx.org/content/col11136/latest/\" target=\"_blank\">Connexions 2010</a>,\n",
       " <a href=\"https://www.learnerprivacy.org/\" target=\"_blank\">My LearnerPrivacy.org podcast</a>,\n",
       " <a href=\"http://www.youtube.com/playlist?list=PLHJB2bhmgB7dFuY7HmrXLj5BmHGKTD-3R\" target=\"_blank\">\n",
       " IEEE Computer - Computing Conversations Interviews</a>,\n",
       " <a href=\"https://www.vimeo.com/17207620\" target=\"_blank\">\n",
       " Dr. Chuck sings the blues </a>,\n",
       " <a href=\"https://www.youtube.com/watch?v=BVKpW02hsrU\" target=\"_blank\">\n",
       " Dr. Chuck goes motocross racing</a>,\n",
       " <a href=\"https://www.youtube.com/watch?v=sa2WsgCvn7c\" target=\"_blank\">\n",
       " A Film About Brent and His ATV\n",
       " </a>,\n",
       " <a href=\"https://www.vimeo.com/17213019\" target=\"_blank\">\n",
       " Audition Tape</a>,\n",
       " <a href=\"https://www.youtube.com/watch?v=FJ078sO35M0\" target=\"_blank\">\n",
       " Dr. Chuck goes stock car racing</a>,\n",
       " <a href=\"http://afs.dr-chuck.com/citoolkit\" target=\"_blank\">\n",
       " The Community Information Toolkit</a>]"
      ]
     },
     "execution_count": 2,
     "metadata": {},
     "output_type": "execute_result"
    }
   ],
   "source": [
    "url = 'http://www.dr-chuck.com'\n",
    "html = urllib.request.urlopen(url).read()\n",
    "soup = BeautifulSoup(html, 'html.parser')\n",
    "x = soup('a')\n",
    "print(type(x))\n",
    "x"
   ]
  }
 ],
 "metadata": {
  "kernelspec": {
   "display_name": "webscraping_env",
   "language": "python",
   "name": "python3"
  },
  "language_info": {
   "codemirror_mode": {
    "name": "ipython",
    "version": 3
   },
   "file_extension": ".py",
   "mimetype": "text/x-python",
   "name": "python",
   "nbconvert_exporter": "python",
   "pygments_lexer": "ipython3",
   "version": "3.12.3"
  }
 },
 "nbformat": 4,
 "nbformat_minor": 2
}
